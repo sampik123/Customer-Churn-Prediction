{
 "cells": [
  {
   "cell_type": "code",
   "execution_count": 1,
   "id": "fa82e108",
   "metadata": {},
   "outputs": [],
   "source": [
    "import numpy as np\n",
    "import pandas as pd\n",
    "import matplotlib.pyplot as plt\n",
    "import seaborn as sns"
   ]
  },
  {
   "cell_type": "code",
   "execution_count": 2,
   "id": "63e7bbfe",
   "metadata": {},
   "outputs": [],
   "source": [
    "df = pd.read_csv(\"D:/customer_churn_large_dataset.csv\")\n",
    "#Reading Dataset"
   ]
  },
  {
   "cell_type": "markdown",
   "id": "e9288291",
   "metadata": {},
   "source": [
    "# Data Preprocessing"
   ]
  },
  {
   "cell_type": "code",
   "execution_count": 3,
   "id": "80f4dd8c",
   "metadata": {},
   "outputs": [
    {
     "data": {
      "text/html": [
       "<div>\n",
       "<style scoped>\n",
       "    .dataframe tbody tr th:only-of-type {\n",
       "        vertical-align: middle;\n",
       "    }\n",
       "\n",
       "    .dataframe tbody tr th {\n",
       "        vertical-align: top;\n",
       "    }\n",
       "\n",
       "    .dataframe thead th {\n",
       "        text-align: right;\n",
       "    }\n",
       "</style>\n",
       "<table border=\"1\" class=\"dataframe\">\n",
       "  <thead>\n",
       "    <tr style=\"text-align: right;\">\n",
       "      <th></th>\n",
       "      <th>CustomerID</th>\n",
       "      <th>Name</th>\n",
       "      <th>Age</th>\n",
       "      <th>Gender</th>\n",
       "      <th>Location</th>\n",
       "      <th>Subscription_Length_Months</th>\n",
       "      <th>Monthly_Bill</th>\n",
       "      <th>Total_Usage_GB</th>\n",
       "      <th>Churn</th>\n",
       "    </tr>\n",
       "  </thead>\n",
       "  <tbody>\n",
       "    <tr>\n",
       "      <th>0</th>\n",
       "      <td>1</td>\n",
       "      <td>Customer_1</td>\n",
       "      <td>63</td>\n",
       "      <td>Male</td>\n",
       "      <td>Los Angeles</td>\n",
       "      <td>17</td>\n",
       "      <td>73.36</td>\n",
       "      <td>236</td>\n",
       "      <td>0</td>\n",
       "    </tr>\n",
       "    <tr>\n",
       "      <th>1</th>\n",
       "      <td>2</td>\n",
       "      <td>Customer_2</td>\n",
       "      <td>62</td>\n",
       "      <td>Female</td>\n",
       "      <td>New York</td>\n",
       "      <td>1</td>\n",
       "      <td>48.76</td>\n",
       "      <td>172</td>\n",
       "      <td>0</td>\n",
       "    </tr>\n",
       "    <tr>\n",
       "      <th>2</th>\n",
       "      <td>3</td>\n",
       "      <td>Customer_3</td>\n",
       "      <td>24</td>\n",
       "      <td>Female</td>\n",
       "      <td>Los Angeles</td>\n",
       "      <td>5</td>\n",
       "      <td>85.47</td>\n",
       "      <td>460</td>\n",
       "      <td>0</td>\n",
       "    </tr>\n",
       "    <tr>\n",
       "      <th>3</th>\n",
       "      <td>4</td>\n",
       "      <td>Customer_4</td>\n",
       "      <td>36</td>\n",
       "      <td>Female</td>\n",
       "      <td>Miami</td>\n",
       "      <td>3</td>\n",
       "      <td>97.94</td>\n",
       "      <td>297</td>\n",
       "      <td>1</td>\n",
       "    </tr>\n",
       "    <tr>\n",
       "      <th>4</th>\n",
       "      <td>5</td>\n",
       "      <td>Customer_5</td>\n",
       "      <td>46</td>\n",
       "      <td>Female</td>\n",
       "      <td>Miami</td>\n",
       "      <td>19</td>\n",
       "      <td>58.14</td>\n",
       "      <td>266</td>\n",
       "      <td>0</td>\n",
       "    </tr>\n",
       "    <tr>\n",
       "      <th>...</th>\n",
       "      <td>...</td>\n",
       "      <td>...</td>\n",
       "      <td>...</td>\n",
       "      <td>...</td>\n",
       "      <td>...</td>\n",
       "      <td>...</td>\n",
       "      <td>...</td>\n",
       "      <td>...</td>\n",
       "      <td>...</td>\n",
       "    </tr>\n",
       "    <tr>\n",
       "      <th>99995</th>\n",
       "      <td>99996</td>\n",
       "      <td>Customer_99996</td>\n",
       "      <td>33</td>\n",
       "      <td>Male</td>\n",
       "      <td>Houston</td>\n",
       "      <td>23</td>\n",
       "      <td>55.13</td>\n",
       "      <td>226</td>\n",
       "      <td>1</td>\n",
       "    </tr>\n",
       "    <tr>\n",
       "      <th>99996</th>\n",
       "      <td>99997</td>\n",
       "      <td>Customer_99997</td>\n",
       "      <td>62</td>\n",
       "      <td>Female</td>\n",
       "      <td>New York</td>\n",
       "      <td>19</td>\n",
       "      <td>61.65</td>\n",
       "      <td>351</td>\n",
       "      <td>0</td>\n",
       "    </tr>\n",
       "    <tr>\n",
       "      <th>99997</th>\n",
       "      <td>99998</td>\n",
       "      <td>Customer_99998</td>\n",
       "      <td>64</td>\n",
       "      <td>Male</td>\n",
       "      <td>Chicago</td>\n",
       "      <td>17</td>\n",
       "      <td>96.11</td>\n",
       "      <td>251</td>\n",
       "      <td>1</td>\n",
       "    </tr>\n",
       "    <tr>\n",
       "      <th>99998</th>\n",
       "      <td>99999</td>\n",
       "      <td>Customer_99999</td>\n",
       "      <td>51</td>\n",
       "      <td>Female</td>\n",
       "      <td>New York</td>\n",
       "      <td>20</td>\n",
       "      <td>49.25</td>\n",
       "      <td>434</td>\n",
       "      <td>1</td>\n",
       "    </tr>\n",
       "    <tr>\n",
       "      <th>99999</th>\n",
       "      <td>100000</td>\n",
       "      <td>Customer_100000</td>\n",
       "      <td>27</td>\n",
       "      <td>Female</td>\n",
       "      <td>Los Angeles</td>\n",
       "      <td>19</td>\n",
       "      <td>76.57</td>\n",
       "      <td>173</td>\n",
       "      <td>1</td>\n",
       "    </tr>\n",
       "  </tbody>\n",
       "</table>\n",
       "<p>100000 rows × 9 columns</p>\n",
       "</div>"
      ],
      "text/plain": [
       "       CustomerID             Name  Age  Gender     Location  \\\n",
       "0               1       Customer_1   63    Male  Los Angeles   \n",
       "1               2       Customer_2   62  Female     New York   \n",
       "2               3       Customer_3   24  Female  Los Angeles   \n",
       "3               4       Customer_4   36  Female        Miami   \n",
       "4               5       Customer_5   46  Female        Miami   \n",
       "...           ...              ...  ...     ...          ...   \n",
       "99995       99996   Customer_99996   33    Male      Houston   \n",
       "99996       99997   Customer_99997   62  Female     New York   \n",
       "99997       99998   Customer_99998   64    Male      Chicago   \n",
       "99998       99999   Customer_99999   51  Female     New York   \n",
       "99999      100000  Customer_100000   27  Female  Los Angeles   \n",
       "\n",
       "       Subscription_Length_Months  Monthly_Bill  Total_Usage_GB  Churn  \n",
       "0                              17         73.36             236      0  \n",
       "1                               1         48.76             172      0  \n",
       "2                               5         85.47             460      0  \n",
       "3                               3         97.94             297      1  \n",
       "4                              19         58.14             266      0  \n",
       "...                           ...           ...             ...    ...  \n",
       "99995                          23         55.13             226      1  \n",
       "99996                          19         61.65             351      0  \n",
       "99997                          17         96.11             251      1  \n",
       "99998                          20         49.25             434      1  \n",
       "99999                          19         76.57             173      1  \n",
       "\n",
       "[100000 rows x 9 columns]"
      ]
     },
     "execution_count": 3,
     "metadata": {},
     "output_type": "execute_result"
    }
   ],
   "source": [
    "df"
   ]
  },
  {
   "cell_type": "code",
   "execution_count": 4,
   "id": "9f00fd5f",
   "metadata": {},
   "outputs": [
    {
     "data": {
      "text/html": [
       "<div>\n",
       "<style scoped>\n",
       "    .dataframe tbody tr th:only-of-type {\n",
       "        vertical-align: middle;\n",
       "    }\n",
       "\n",
       "    .dataframe tbody tr th {\n",
       "        vertical-align: top;\n",
       "    }\n",
       "\n",
       "    .dataframe thead th {\n",
       "        text-align: right;\n",
       "    }\n",
       "</style>\n",
       "<table border=\"1\" class=\"dataframe\">\n",
       "  <thead>\n",
       "    <tr style=\"text-align: right;\">\n",
       "      <th></th>\n",
       "      <th>CustomerID</th>\n",
       "      <th>Name</th>\n",
       "      <th>Age</th>\n",
       "      <th>Gender</th>\n",
       "      <th>Location</th>\n",
       "      <th>Subscription_Length_Months</th>\n",
       "      <th>Monthly_Bill</th>\n",
       "      <th>Total_Usage_GB</th>\n",
       "      <th>Churn</th>\n",
       "    </tr>\n",
       "  </thead>\n",
       "  <tbody>\n",
       "    <tr>\n",
       "      <th>0</th>\n",
       "      <td>1</td>\n",
       "      <td>Customer_1</td>\n",
       "      <td>63</td>\n",
       "      <td>Male</td>\n",
       "      <td>Los Angeles</td>\n",
       "      <td>17</td>\n",
       "      <td>73.36</td>\n",
       "      <td>236</td>\n",
       "      <td>0</td>\n",
       "    </tr>\n",
       "    <tr>\n",
       "      <th>1</th>\n",
       "      <td>2</td>\n",
       "      <td>Customer_2</td>\n",
       "      <td>62</td>\n",
       "      <td>Female</td>\n",
       "      <td>New York</td>\n",
       "      <td>1</td>\n",
       "      <td>48.76</td>\n",
       "      <td>172</td>\n",
       "      <td>0</td>\n",
       "    </tr>\n",
       "    <tr>\n",
       "      <th>2</th>\n",
       "      <td>3</td>\n",
       "      <td>Customer_3</td>\n",
       "      <td>24</td>\n",
       "      <td>Female</td>\n",
       "      <td>Los Angeles</td>\n",
       "      <td>5</td>\n",
       "      <td>85.47</td>\n",
       "      <td>460</td>\n",
       "      <td>0</td>\n",
       "    </tr>\n",
       "    <tr>\n",
       "      <th>3</th>\n",
       "      <td>4</td>\n",
       "      <td>Customer_4</td>\n",
       "      <td>36</td>\n",
       "      <td>Female</td>\n",
       "      <td>Miami</td>\n",
       "      <td>3</td>\n",
       "      <td>97.94</td>\n",
       "      <td>297</td>\n",
       "      <td>1</td>\n",
       "    </tr>\n",
       "    <tr>\n",
       "      <th>4</th>\n",
       "      <td>5</td>\n",
       "      <td>Customer_5</td>\n",
       "      <td>46</td>\n",
       "      <td>Female</td>\n",
       "      <td>Miami</td>\n",
       "      <td>19</td>\n",
       "      <td>58.14</td>\n",
       "      <td>266</td>\n",
       "      <td>0</td>\n",
       "    </tr>\n",
       "  </tbody>\n",
       "</table>\n",
       "</div>"
      ],
      "text/plain": [
       "   CustomerID        Name  Age  Gender     Location  \\\n",
       "0           1  Customer_1   63    Male  Los Angeles   \n",
       "1           2  Customer_2   62  Female     New York   \n",
       "2           3  Customer_3   24  Female  Los Angeles   \n",
       "3           4  Customer_4   36  Female        Miami   \n",
       "4           5  Customer_5   46  Female        Miami   \n",
       "\n",
       "   Subscription_Length_Months  Monthly_Bill  Total_Usage_GB  Churn  \n",
       "0                          17         73.36             236      0  \n",
       "1                           1         48.76             172      0  \n",
       "2                           5         85.47             460      0  \n",
       "3                           3         97.94             297      1  \n",
       "4                          19         58.14             266      0  "
      ]
     },
     "execution_count": 4,
     "metadata": {},
     "output_type": "execute_result"
    }
   ],
   "source": [
    "df.head()"
   ]
  },
  {
   "cell_type": "code",
   "execution_count": 5,
   "id": "f2ecd4b5",
   "metadata": {},
   "outputs": [
    {
     "data": {
      "text/plain": [
       "(100000, 9)"
      ]
     },
     "execution_count": 5,
     "metadata": {},
     "output_type": "execute_result"
    }
   ],
   "source": [
    "df.shape\n",
    "# There are 100000 rows and 9 columns"
   ]
  },
  {
   "cell_type": "code",
   "execution_count": 6,
   "id": "9f20bbce",
   "metadata": {},
   "outputs": [
    {
     "name": "stdout",
     "output_type": "stream",
     "text": [
      "<class 'pandas.core.frame.DataFrame'>\n",
      "RangeIndex: 100000 entries, 0 to 99999\n",
      "Data columns (total 9 columns):\n",
      " #   Column                      Non-Null Count   Dtype  \n",
      "---  ------                      --------------   -----  \n",
      " 0   CustomerID                  100000 non-null  int64  \n",
      " 1   Name                        100000 non-null  object \n",
      " 2   Age                         100000 non-null  int64  \n",
      " 3   Gender                      100000 non-null  object \n",
      " 4   Location                    100000 non-null  object \n",
      " 5   Subscription_Length_Months  100000 non-null  int64  \n",
      " 6   Monthly_Bill                100000 non-null  float64\n",
      " 7   Total_Usage_GB              100000 non-null  int64  \n",
      " 8   Churn                       100000 non-null  int64  \n",
      "dtypes: float64(1), int64(5), object(3)\n",
      "memory usage: 6.9+ MB\n"
     ]
    }
   ],
   "source": [
    "df.info()\n",
    "# Checking the information of the data"
   ]
  },
  {
   "cell_type": "code",
   "execution_count": 7,
   "id": "3a25b84e",
   "metadata": {},
   "outputs": [
    {
     "data": {
      "text/plain": [
       "CustomerID                    0\n",
       "Name                          0\n",
       "Age                           0\n",
       "Gender                        0\n",
       "Location                      0\n",
       "Subscription_Length_Months    0\n",
       "Monthly_Bill                  0\n",
       "Total_Usage_GB                0\n",
       "Churn                         0\n",
       "dtype: int64"
      ]
     },
     "execution_count": 7,
     "metadata": {},
     "output_type": "execute_result"
    }
   ],
   "source": [
    "df.isnull().sum()\n",
    "# There are no null values in the dataset"
   ]
  },
  {
   "cell_type": "code",
   "execution_count": 8,
   "id": "afdb8cc0",
   "metadata": {},
   "outputs": [
    {
     "data": {
      "text/plain": [
       "0    50221\n",
       "1    49779\n",
       "Name: Churn, dtype: int64"
      ]
     },
     "execution_count": 8,
     "metadata": {},
     "output_type": "execute_result"
    }
   ],
   "source": [
    "df['Churn'].value_counts()\n",
    "# As it can be seen target column is mostly balanced,there are 50221 zero's and 49779 one's. so they are almost equal in number."
   ]
  },
  {
   "cell_type": "code",
   "execution_count": 9,
   "id": "6fefe98b",
   "metadata": {},
   "outputs": [],
   "source": [
    "df = df.drop(columns=[\"CustomerID\", \"Name\"])\n",
    "# dropping the Name and CustomerID columns as it will not make any sense in predicting the churn.It increase the dimensionality."
   ]
  },
  {
   "cell_type": "code",
   "execution_count": 10,
   "id": "76d416de",
   "metadata": {},
   "outputs": [
    {
     "data": {
      "text/html": [
       "<div>\n",
       "<style scoped>\n",
       "    .dataframe tbody tr th:only-of-type {\n",
       "        vertical-align: middle;\n",
       "    }\n",
       "\n",
       "    .dataframe tbody tr th {\n",
       "        vertical-align: top;\n",
       "    }\n",
       "\n",
       "    .dataframe thead th {\n",
       "        text-align: right;\n",
       "    }\n",
       "</style>\n",
       "<table border=\"1\" class=\"dataframe\">\n",
       "  <thead>\n",
       "    <tr style=\"text-align: right;\">\n",
       "      <th></th>\n",
       "      <th>Age</th>\n",
       "      <th>Subscription_Length_Months</th>\n",
       "      <th>Monthly_Bill</th>\n",
       "      <th>Total_Usage_GB</th>\n",
       "      <th>Churn</th>\n",
       "    </tr>\n",
       "  </thead>\n",
       "  <tbody>\n",
       "    <tr>\n",
       "      <th>count</th>\n",
       "      <td>100000.000000</td>\n",
       "      <td>100000.000000</td>\n",
       "      <td>100000.000000</td>\n",
       "      <td>100000.000000</td>\n",
       "      <td>100000.000000</td>\n",
       "    </tr>\n",
       "    <tr>\n",
       "      <th>mean</th>\n",
       "      <td>44.027020</td>\n",
       "      <td>12.490100</td>\n",
       "      <td>65.053197</td>\n",
       "      <td>274.393650</td>\n",
       "      <td>0.497790</td>\n",
       "    </tr>\n",
       "    <tr>\n",
       "      <th>std</th>\n",
       "      <td>15.280283</td>\n",
       "      <td>6.926461</td>\n",
       "      <td>20.230696</td>\n",
       "      <td>130.463063</td>\n",
       "      <td>0.499998</td>\n",
       "    </tr>\n",
       "    <tr>\n",
       "      <th>min</th>\n",
       "      <td>18.000000</td>\n",
       "      <td>1.000000</td>\n",
       "      <td>30.000000</td>\n",
       "      <td>50.000000</td>\n",
       "      <td>0.000000</td>\n",
       "    </tr>\n",
       "    <tr>\n",
       "      <th>25%</th>\n",
       "      <td>31.000000</td>\n",
       "      <td>6.000000</td>\n",
       "      <td>47.540000</td>\n",
       "      <td>161.000000</td>\n",
       "      <td>0.000000</td>\n",
       "    </tr>\n",
       "    <tr>\n",
       "      <th>50%</th>\n",
       "      <td>44.000000</td>\n",
       "      <td>12.000000</td>\n",
       "      <td>65.010000</td>\n",
       "      <td>274.000000</td>\n",
       "      <td>0.000000</td>\n",
       "    </tr>\n",
       "    <tr>\n",
       "      <th>75%</th>\n",
       "      <td>57.000000</td>\n",
       "      <td>19.000000</td>\n",
       "      <td>82.640000</td>\n",
       "      <td>387.000000</td>\n",
       "      <td>1.000000</td>\n",
       "    </tr>\n",
       "    <tr>\n",
       "      <th>max</th>\n",
       "      <td>70.000000</td>\n",
       "      <td>24.000000</td>\n",
       "      <td>100.000000</td>\n",
       "      <td>500.000000</td>\n",
       "      <td>1.000000</td>\n",
       "    </tr>\n",
       "  </tbody>\n",
       "</table>\n",
       "</div>"
      ],
      "text/plain": [
       "                 Age  Subscription_Length_Months   Monthly_Bill  \\\n",
       "count  100000.000000               100000.000000  100000.000000   \n",
       "mean       44.027020                   12.490100      65.053197   \n",
       "std        15.280283                    6.926461      20.230696   \n",
       "min        18.000000                    1.000000      30.000000   \n",
       "25%        31.000000                    6.000000      47.540000   \n",
       "50%        44.000000                   12.000000      65.010000   \n",
       "75%        57.000000                   19.000000      82.640000   \n",
       "max        70.000000                   24.000000     100.000000   \n",
       "\n",
       "       Total_Usage_GB          Churn  \n",
       "count   100000.000000  100000.000000  \n",
       "mean       274.393650       0.497790  \n",
       "std        130.463063       0.499998  \n",
       "min         50.000000       0.000000  \n",
       "25%        161.000000       0.000000  \n",
       "50%        274.000000       0.000000  \n",
       "75%        387.000000       1.000000  \n",
       "max        500.000000       1.000000  "
      ]
     },
     "execution_count": 10,
     "metadata": {},
     "output_type": "execute_result"
    }
   ],
   "source": [
    "df.describe()\n",
    "# The describe displays all the decriptive statistics of the data including mean, std, min, max values."
   ]
  },
  {
   "cell_type": "code",
   "execution_count": 11,
   "id": "060d2d74",
   "metadata": {},
   "outputs": [
    {
     "data": {
      "text/plain": [
       "Age                             53\n",
       "Gender                           2\n",
       "Location                         5\n",
       "Subscription_Length_Months      24\n",
       "Monthly_Bill                  7001\n",
       "Total_Usage_GB                 451\n",
       "Churn                            2\n",
       "dtype: int64"
      ]
     },
     "execution_count": 11,
     "metadata": {},
     "output_type": "execute_result"
    }
   ],
   "source": [
    "df.nunique()\n",
    "#it is used to count the number of unique values in each column of a DataFrame. "
   ]
  },
  {
   "cell_type": "code",
   "execution_count": 12,
   "id": "7318d705",
   "metadata": {},
   "outputs": [
    {
     "data": {
      "text/plain": [
       "['Gender', 'Location', 'Churn']"
      ]
     },
     "execution_count": 12,
     "metadata": {},
     "output_type": "execute_result"
    }
   ],
   "source": [
    "categorical_variables = []\n",
    "\n",
    "for col in df.columns:\n",
    "    if df[col].dtype == \"object\" or df[col].nunique() <= 11 and col != \"churn\":\n",
    "        categorical_variables.append(col)\n",
    "\n",
    "        \n",
    "categorical_variables             \n",
    "#Columns with a low number of unique values might represent categorical variables with limited variability.\n",
    "#That's why df[col].nunique() <=11 is used.\n",
    "#we can see, we have three categorical varialbes present in which one is our target variable i.e. churn."
   ]
  },
  {
   "cell_type": "code",
   "execution_count": 13,
   "id": "4d3aa6ae",
   "metadata": {},
   "outputs": [
    {
     "data": {
      "text/plain": [
       "['Age', 'Subscription_Length_Months', 'Monthly_Bill', 'Total_Usage_GB']"
      ]
     },
     "execution_count": 13,
     "metadata": {},
     "output_type": "execute_result"
    }
   ],
   "source": [
    "numeric_variables = []\n",
    "\n",
    "for col in df.columns:\n",
    "    if df[col].dtype != \"object\" and df[col].nunique() > 11:\n",
    "        numeric_variables.append(col)\n",
    "\n",
    "numeric_variables        \n",
    "# so total we have 4 numerical variables present."
   ]
  },
  {
   "cell_type": "code",
   "execution_count": 14,
   "id": "aaf50409",
   "metadata": {},
   "outputs": [
    {
     "name": "stdout",
     "output_type": "stream",
     "text": [
      "No outliers\n",
      "No outliers\n",
      "No outliers\n",
      "No outliers\n"
     ]
    }
   ],
   "source": [
    "for var in numeric_variables:\n",
    "    low_quantile = 0.05\n",
    "    up_quantile = 0.95\n",
    "    for col in [var]:\n",
    "        quantile_one = df[col].quantile(low_quantile)\n",
    "        quantile_three = df[col].quantile(up_quantile)\n",
    "        interquantile_range = quantile_three - quantile_one\n",
    "        up_limit = quantile_three + 1.5 * interquantile_range\n",
    "        low_limit = quantile_one - 1.5 * interquantile_range\n",
    "        \n",
    "        outliers = (df[col] > up_limit) | (df[col] < low_limit)\n",
    "        number_of_outliers = outliers.sum()\n",
    "        if number_of_outliers > 0:\n",
    "            print(col, \":\", number_of_outliers, \"outliers\")\n",
    "        else:\n",
    "            print('No outliers')\n",
    "     \n",
    "    \n",
    "# we can see, there is no outlier present in the dataset.    "
   ]
  },
  {
   "cell_type": "code",
   "execution_count": 15,
   "id": "a2583ef8",
   "metadata": {},
   "outputs": [
    {
     "data": {
      "image/png": "[encoded data removed]",
      "text/plain": [
       "<Figure size 576x432 with 1 Axes>"
      ]
     },
     "metadata": {
      "needs_background": "light"
     },
     "output_type": "display_data"
    },
    {
     "data": {
      "image/png": "[encoded data removed]",
      "text/plain": [
       "<Figure size 576x432 with 1 Axes>"
      ]
     },
     "metadata": {
      "needs_background": "light"
     },
     "output_type": "display_data"
    },
    {
     "data": {
      "image/png": "[encoded data removed]",
      "text/plain": [
       "<Figure size 576x432 with 1 Axes>"
      ]
     },
     "metadata": {
      "needs_background": "light"
     },
     "output_type": "display_data"
    },
    {
     "data": {
      "image/png": "[encoded data removed]",
      "text/plain": [
       "<Figure size 576x432 with 1 Axes>"
      ]
     },
     "metadata": {
      "needs_background": "light"
     },
     "output_type": "display_data"
    }
   ],
   "source": [
    "# Create a box plot for each numeric variable\n",
    "for var in numeric_variables:\n",
    "    plt.figure(figsize=(8, 6))\n",
    "    sns.boxplot(y=var, data=df)\n",
    "    plt.title(f'Box Plot of {var}')\n",
    "    plt.show()\n",
    "\n",
    "#Box Plot also confirms that we have no outlier present in the dataset    "
   ]
  },
  {
   "cell_type": "code",
   "execution_count": 16,
   "id": "94f5156b",
   "metadata": {},
   "outputs": [
    {
     "data": {
      "image/png": "[encoded data removed]",
      "text/plain": [
       "<Figure size 576x432 with 1 Axes>"
      ]
     },
     "metadata": {
      "needs_background": "light"
     },
     "output_type": "display_data"
    },
    {
     "data": {
      "image/png": "[encoded data removed]",
      "text/plain": [
       "<Figure size 576x432 with 1 Axes>"
      ]
     },
     "metadata": {
      "needs_background": "light"
     },
     "output_type": "display_data"
    },
    {
     "data": {
      "image/png": "[encoded data removed]",
      "text/plain": [
       "<Figure size 576x432 with 1 Axes>"
      ]
     },
     "metadata": {
      "needs_background": "light"
     },
     "output_type": "display_data"
    },
    {
     "data": {
      "image/png": "[encoded data removed]",
      "text/plain": [
       "<Figure size 576x432 with 1 Axes>"
      ]
     },
     "metadata": {
      "needs_background": "light"
     },
     "output_type": "display_data"
    }
   ],
   "source": [
    "# Create histograms for each numeric variable\n",
    "for var in numeric_variables:\n",
    "    plt.figure(figsize=(8, 6))\n",
    "    sns.histplot(data=df, x=var, bins=20, kde=True)\n",
    "    plt.title(f'Histogram of {var}')\n",
    "    plt.show()"
   ]
  },
  {
   "cell_type": "markdown",
   "id": "55d7f248",
   "metadata": {},
   "source": [
    "If the probability density function (PDF) in a histogram has a rectangular pattern, it suggests that the data might follow a uniform distribution.\n",
    "\n",
    "A uniform distribution, also known as a rectangular distribution, is a type of probability distribution in which all values within a certain range are equally likely to occur. In a histogram, a uniform distribution would appear as a flat, rectangular shape, where all values have similar frequencies.\n",
    "\n",
    "In a uniform distribution:\n",
    "\n",
    "All values have the same probability of occurring.\n",
    "The PDF is constant within a specific interval and zero outside that interval.\n",
    "The data is spread out evenly across the entire range.\n",
    "Keep in mind that while a rectangular pattern in the PDF suggests a uniform distribution, it's important to perform further analysis and statistical tests to confirm the nature of the distribution. Other factors like sample size, data collection methods, and underlying processes can influence the shape of the distribution."
   ]
  },
  {
   "cell_type": "code",
   "execution_count": 17,
   "id": "e64cc1d8",
   "metadata": {},
   "outputs": [],
   "source": [
    "# Checking the non-numeric columns\n",
    "df_cat = df.select_dtypes(exclude=[np.number])\n",
    "\n"
   ]
  },
  {
   "cell_type": "code",
   "execution_count": 18,
   "id": "aae96c05",
   "metadata": {},
   "outputs": [
    {
     "name": "stderr",
     "output_type": "stream",
     "text": [
      "C:\\Users\\user\\AppData\\Local\\Temp/ipykernel_8396/704436320.py:1: DeprecationWarning: `np.object` is a deprecated alias for the builtin `object`. To silence this warning, use `object` by itself. Doing this will not modify any behavior and is safe. \n",
      "Deprecated in NumPy 1.20; for more details and guidance: https://numpy.org/devdocs/release/1.20.0-notes.html#deprecations\n",
      "  df_num = df.select_dtypes(exclude=[np.object])\n"
     ]
    },
    {
     "data": {
      "text/html": [
       "<div>\n",
       "<style scoped>\n",
       "    .dataframe tbody tr th:only-of-type {\n",
       "        vertical-align: middle;\n",
       "    }\n",
       "\n",
       "    .dataframe tbody tr th {\n",
       "        vertical-align: top;\n",
       "    }\n",
       "\n",
       "    .dataframe thead th {\n",
       "        text-align: right;\n",
       "    }\n",
       "</style>\n",
       "<table border=\"1\" class=\"dataframe\">\n",
       "  <thead>\n",
       "    <tr style=\"text-align: right;\">\n",
       "      <th></th>\n",
       "      <th>Age</th>\n",
       "      <th>Subscription_Length_Months</th>\n",
       "      <th>Monthly_Bill</th>\n",
       "      <th>Total_Usage_GB</th>\n",
       "      <th>Churn</th>\n",
       "    </tr>\n",
       "  </thead>\n",
       "  <tbody>\n",
       "    <tr>\n",
       "      <th>0</th>\n",
       "      <td>63</td>\n",
       "      <td>17</td>\n",
       "      <td>73.36</td>\n",
       "      <td>236</td>\n",
       "      <td>0</td>\n",
       "    </tr>\n",
       "    <tr>\n",
       "      <th>1</th>\n",
       "      <td>62</td>\n",
       "      <td>1</td>\n",
       "      <td>48.76</td>\n",
       "      <td>172</td>\n",
       "      <td>0</td>\n",
       "    </tr>\n",
       "    <tr>\n",
       "      <th>2</th>\n",
       "      <td>24</td>\n",
       "      <td>5</td>\n",
       "      <td>85.47</td>\n",
       "      <td>460</td>\n",
       "      <td>0</td>\n",
       "    </tr>\n",
       "    <tr>\n",
       "      <th>3</th>\n",
       "      <td>36</td>\n",
       "      <td>3</td>\n",
       "      <td>97.94</td>\n",
       "      <td>297</td>\n",
       "      <td>1</td>\n",
       "    </tr>\n",
       "    <tr>\n",
       "      <th>4</th>\n",
       "      <td>46</td>\n",
       "      <td>19</td>\n",
       "      <td>58.14</td>\n",
       "      <td>266</td>\n",
       "      <td>0</td>\n",
       "    </tr>\n",
       "  </tbody>\n",
       "</table>\n",
       "</div>"
      ],
      "text/plain": [
       "   Age  Subscription_Length_Months  Monthly_Bill  Total_Usage_GB  Churn\n",
       "0   63                          17         73.36             236      0\n",
       "1   62                           1         48.76             172      0\n",
       "2   24                           5         85.47             460      0\n",
       "3   36                           3         97.94             297      1\n",
       "4   46                          19         58.14             266      0"
      ]
     },
     "execution_count": 18,
     "metadata": {},
     "output_type": "execute_result"
    }
   ],
   "source": [
    "df_num = df.select_dtypes(exclude=[np.object])\n",
    "df_num.head()"
   ]
  },
  {
   "cell_type": "code",
   "execution_count": 19,
   "id": "71f764e6",
   "metadata": {},
   "outputs": [
    {
     "data": {
      "text/plain": [
       "Index(['Gender', 'Location'], dtype='object')"
      ]
     },
     "execution_count": 19,
     "metadata": {},
     "output_type": "execute_result"
    }
   ],
   "source": [
    "# categorical columns\n",
    "df_cat.columns"
   ]
  },
  {
   "cell_type": "code",
   "execution_count": 20,
   "id": "5726271b",
   "metadata": {},
   "outputs": [
    {
     "name": "stdout",
     "output_type": "stream",
     "text": [
      "Gender has 2 unique values.\n",
      "['Male' 'Female']\n",
      "------------------------------------------------------------\n",
      "Location has 5 unique values.\n",
      "['Los Angeles' 'New York' 'Miami' 'Chicago' 'Houston']\n",
      "------------------------------------------------------------\n"
     ]
    }
   ],
   "source": [
    "# How many unique values does each categorical variable has? \n",
    "# What are they?\n",
    "\n",
    "for col in df_cat.columns:\n",
    "    print(col,'has {} unique values.'.format(df_cat[col].nunique()))\n",
    "    print(df_cat[col].unique())\n",
    "    print('------------------------------------------------------------')"
   ]
  },
  {
   "cell_type": "markdown",
   "id": "f0e1aff7",
   "metadata": {},
   "source": [
    "You have two categorical columns: 'Gender' and 'Location'. To prepare these categorical variables for machine learning, you can use one-hot encoding. One-hot encoding will create binary columns for each category in these variables."
   ]
  },
  {
   "cell_type": "code",
   "execution_count": 36,
   "id": "5971a901",
   "metadata": {},
   "outputs": [],
   "source": [
    "from sklearn.model_selection import train_test_split\n",
    "from sklearn.preprocessing import OneHotEncoder\n",
    "from sklearn.preprocessing import StandardScaler"
   ]
  },
  {
   "cell_type": "code",
   "execution_count": 37,
   "id": "f061549e",
   "metadata": {},
   "outputs": [],
   "source": [
    "# Separate target variable\n",
    "y = df['Churn']\n",
    "X = df.drop('Churn', axis=1)"
   ]
  },
  {
   "cell_type": "code",
   "execution_count": 38,
   "id": "9e88b9f9",
   "metadata": {},
   "outputs": [],
   "source": [
    "# Split the data into training and testing sets\n",
    "X_train, X_test, y_train, y_test = train_test_split(X, y, test_size=0.2, random_state=42)"
   ]
  },
  {
   "cell_type": "code",
   "execution_count": 39,
   "id": "915667fd",
   "metadata": {},
   "outputs": [
    {
     "name": "stdout",
     "output_type": "stream",
     "text": [
      "X_train:\n",
      "        Age  Gender     Location  Subscription_Length_Months  Monthly_Bill  \\\n",
      "75220   54  Female     New York                           5         84.50   \n",
      "48955   28    Male     New York                          24         82.06   \n",
      "44966   57    Male      Chicago                          12         52.29   \n",
      "13568   19    Male      Houston                          19         32.57   \n",
      "92727   56  Female        Miami                           8         33.52   \n",
      "...    ...     ...          ...                         ...           ...   \n",
      "6265    35    Male        Miami                          21         67.33   \n",
      "54886   56    Male      Chicago                          13         85.40   \n",
      "76820   69    Male      Houston                           2         76.24   \n",
      "860     55    Male      Chicago                          12         89.19   \n",
      "15795   26  Female  Los Angeles                          17         70.41   \n",
      "\n",
      "       Total_Usage_GB  \n",
      "75220             205  \n",
      "48955             239  \n",
      "44966              62  \n",
      "13568             173  \n",
      "92727             314  \n",
      "...               ...  \n",
      "6265              235  \n",
      "54886             347  \n",
      "76820             321  \n",
      "860               315  \n",
      "15795             335  \n",
      "\n",
      "[80000 rows x 6 columns]\n",
      "\n",
      "X_test:\n",
      "        Age  Gender     Location  Subscription_Length_Months  Monthly_Bill  \\\n",
      "75721   48  Female      Houston                          11         88.48   \n",
      "80184   49    Male     New York                          13         40.61   \n",
      "19864   31  Female  Los Angeles                           5         33.01   \n",
      "76699   53    Male     New York                           4         94.66   \n",
      "92991   23  Female  Los Angeles                          24         82.21   \n",
      "...    ...     ...          ...                         ...           ...   \n",
      "32595   38    Male        Miami                          20         79.70   \n",
      "29313   53    Male  Los Angeles                          12         96.75   \n",
      "37862   68    Male        Miami                          13         39.33   \n",
      "53421   34    Male        Miami                          13         95.14   \n",
      "42410   68    Male      Chicago                          11         30.91   \n",
      "\n",
      "       Total_Usage_GB  \n",
      "75721             492  \n",
      "80184             423  \n",
      "19864             276  \n",
      "76699             339  \n",
      "92991             304  \n",
      "...               ...  \n",
      "32595             118  \n",
      "29313             363  \n",
      "37862             137  \n",
      "53421             498  \n",
      "42410             348  \n",
      "\n",
      "[20000 rows x 6 columns]\n",
      "\n",
      "y_train:\n",
      " 75220    1\n",
      "48955    1\n",
      "44966    1\n",
      "13568    1\n",
      "92727    1\n",
      "        ..\n",
      "6265     0\n",
      "54886    0\n",
      "76820    1\n",
      "860      1\n",
      "15795    0\n",
      "Name: Churn, Length: 80000, dtype: int64\n",
      "\n",
      "y_test:\n",
      " 75721    0\n",
      "80184    0\n",
      "19864    0\n",
      "76699    1\n",
      "92991    0\n",
      "        ..\n",
      "32595    0\n",
      "29313    1\n",
      "37862    1\n",
      "53421    0\n",
      "42410    1\n",
      "Name: Churn, Length: 20000, dtype: int64\n"
     ]
    }
   ],
   "source": [
    "# Display the training and testing sets\n",
    "print(\"X_train:\\n\", X_train)\n",
    "print(\"\\nX_test:\\n\", X_test)\n",
    "print(\"\\ny_train:\\n\", y_train)\n",
    "print(\"\\ny_test:\\n\", y_test)\n"
   ]
  },
  {
   "cell_type": "markdown",
   "id": "1d8a4980",
   "metadata": {},
   "source": [
    "Feature Engineering:\n",
    "You can generate relevant features based on domain knowledge or relationships between columns. Here's an example of creating a new feature by calculating the ratio of Monthly_Bill to Total_Usage_GB:"
   ]
  },
  {
   "cell_type": "code",
   "execution_count": 40,
   "id": "22f1244d",
   "metadata": {},
   "outputs": [
    {
     "name": "stderr",
     "output_type": "stream",
     "text": [
      "C:\\Users\\user\\AppData\\Local\\Temp/ipykernel_8396/960322854.py:1: SettingWithCopyWarning: \n",
      "A value is trying to be set on a copy of a slice from a DataFrame.\n",
      "Try using .loc[row_indexer,col_indexer] = value instead\n",
      "\n",
      "See the caveats in the documentation: https://pandas.pydata.org/pandas-docs/stable/user_guide/indexing.html#returning-a-view-versus-a-copy\n",
      "  X_train['Bill_Per_GB'] = X_train['Monthly_Bill'] / X_train['Total_Usage_GB']\n",
      "C:\\Users\\user\\AppData\\Local\\Temp/ipykernel_8396/960322854.py:2: SettingWithCopyWarning: \n",
      "A value is trying to be set on a copy of a slice from a DataFrame.\n",
      "Try using .loc[row_indexer,col_indexer] = value instead\n",
      "\n",
      "See the caveats in the documentation: https://pandas.pydata.org/pandas-docs/stable/user_guide/indexing.html#returning-a-view-versus-a-copy\n",
      "  X_test['Bill_Per_GB'] = X_test['Monthly_Bill'] / X_test['Total_Usage_GB']\n"
     ]
    }
   ],
   "source": [
    "X_train['Bill_Per_GB'] = X_train['Monthly_Bill'] / X_train['Total_Usage_GB']\n",
    "X_test['Bill_Per_GB'] = X_test['Monthly_Bill'] / X_test['Total_Usage_GB']\n"
   ]
  },
  {
   "cell_type": "markdown",
   "id": "774bcc85",
   "metadata": {},
   "source": [
    "Encoding Categorical Variables:"
   ]
  },
  {
   "cell_type": "code",
   "execution_count": 41,
   "id": "952d64ec",
   "metadata": {},
   "outputs": [],
   "source": [
    "# Encode categorical variables using pd.get_dummies()\n",
    "X_train_encoded = pd.get_dummies(X_train, columns=['Gender', 'Location'], drop_first=True)\n",
    "X_test_encoded = pd.get_dummies(X_test, columns=['Gender', 'Location'], drop_first=True)"
   ]
  },
  {
   "cell_type": "code",
   "execution_count": 42,
   "id": "c1ce73b8",
   "metadata": {},
   "outputs": [],
   "source": [
    "# Feature scaling (numerical features)\n",
    "scaler = StandardScaler()\n",
    "numerical_features = ['Age', 'Subscription_Length_Months', 'Monthly_Bill', 'Total_Usage_GB', 'Bill_Per_GB']\n",
    "X_train_encoded[numerical_features] = scaler.fit_transform(X_train_encoded[numerical_features])\n",
    "X_test_encoded[numerical_features] = scaler.transform(X_test_encoded[numerical_features])"
   ]
  },
  {
   "cell_type": "code",
   "execution_count": 43,
   "id": "7db128bc",
   "metadata": {},
   "outputs": [
    {
     "name": "stdout",
     "output_type": "stream",
     "text": [
      "\n",
      "X_train_encoded:\n",
      "             Age  Subscription_Length_Months  Monthly_Bill  Total_Usage_GB  \\\n",
      "75220  0.653447                   -1.082728      0.960255       -0.533774   \n",
      "48955 -1.048276                    1.663882      0.839624       -0.273257   \n",
      "44966  0.849799                   -0.070819     -0.632174       -1.629476   \n",
      "13568 -1.637334                    0.941090     -1.607109       -0.778966   \n",
      "92727  0.784348                   -0.649053     -1.560142        0.301412   \n",
      "...         ...                         ...           ...             ...   \n",
      "6265  -0.590120                    1.230207      0.111388       -0.303906   \n",
      "54886  0.784348                    0.073739      1.004750        0.554266   \n",
      "76820  1.635210                   -1.516404      0.551889        0.355047   \n",
      "860    0.718898                   -0.070819      1.192123        0.309074   \n",
      "15795 -1.179177                    0.651973      0.263660        0.462319   \n",
      "\n",
      "       Bill_Per_GB  Gender_Male  Location_Houston  Location_Los Angeles  \\\n",
      "75220     0.282633            0                 0                     0   \n",
      "48955     0.032577            1                 0                     0   \n",
      "44966     1.848722            1                 0                     0   \n",
      "13568    -0.530678            1                 1                     0   \n",
      "92727    -0.826738            0                 0                     0   \n",
      "...            ...          ...               ...                   ...   \n",
      "6265     -0.173853            1                 0                     0   \n",
      "54886    -0.320590            1                 0                     0   \n",
      "76820    -0.351831            1                 1                     0   \n",
      "860      -0.186085            1                 0                     0   \n",
      "15795    -0.451089            0                 0                     1   \n",
      "\n",
      "       Location_Miami  Location_New York  \n",
      "75220               0                  1  \n",
      "48955               0                  1  \n",
      "44966               0                  0  \n",
      "13568               0                  0  \n",
      "92727               1                  0  \n",
      "...               ...                ...  \n",
      "6265                1                  0  \n",
      "54886               0                  0  \n",
      "76820               0                  0  \n",
      "860                 0                  0  \n",
      "15795               0                  0  \n",
      "\n",
      "[80000 rows x 10 columns]\n",
      "\n",
      "X_test_encoded:\n",
      "             Age  Subscription_Length_Months  Monthly_Bill  Total_Usage_GB  \\\n",
      "75721  0.260742                   -0.215378      1.157022        1.665292   \n",
      "80184  0.326192                    0.073739     -1.209620        1.136597   \n",
      "19864 -0.851923                   -1.082728     -1.585356        0.010246   \n",
      "76699  0.587996                   -1.227287      1.462554        0.492968   \n",
      "92991 -1.375530                    1.663882      0.847039        0.224789   \n",
      "...         ...                         ...           ...             ...   \n",
      "32595 -0.393767                    1.085648      0.722948       -1.200390   \n",
      "29313  0.587996                   -0.070819      1.565882        0.676862   \n",
      "37862  1.569759                    0.073739     -1.272902       -1.054807   \n",
      "53421 -0.655571                    0.073739      1.486285        1.711266   \n",
      "42410  1.569759                   -0.215378     -1.689178        0.561928   \n",
      "\n",
      "       Bill_Per_GB  Gender_Male  Location_Houston  Location_Los Angeles  \\\n",
      "75721    -0.561290            0                 1                     0   \n",
      "80184    -0.865770            1                 0                     0   \n",
      "19864    -0.780067            0                 0                     1   \n",
      "76699    -0.200285            1                 0                     0   \n",
      "92991    -0.232267            0                 0                     1   \n",
      "...            ...          ...               ...                   ...   \n",
      "32595     1.238679            1                 0                     0   \n",
      "29313    -0.246427            1                 0                     1   \n",
      "37862    -0.171784            1                 0                     0   \n",
      "53421    -0.520587            1                 0                     0   \n",
      "42410    -0.891859            1                 0                     0   \n",
      "\n",
      "       Location_Miami  Location_New York  \n",
      "75721               0                  0  \n",
      "80184               0                  1  \n",
      "19864               0                  0  \n",
      "76699               0                  1  \n",
      "92991               0                  0  \n",
      "...               ...                ...  \n",
      "32595               1                  0  \n",
      "29313               0                  0  \n",
      "37862               1                  0  \n",
      "53421               1                  0  \n",
      "42410               0                  0  \n",
      "\n",
      "[20000 rows x 10 columns]\n"
     ]
    }
   ],
   "source": [
    "# Display the final feature-engineered datasets\n",
    "print(\"\\nX_train_encoded:\\n\", X_train_encoded)\n",
    "print(\"\\nX_test_encoded:\\n\", X_test_encoded)"
   ]
  },
  {
   "cell_type": "code",
   "execution_count": 44,
   "id": "3cc13ce2",
   "metadata": {},
   "outputs": [
    {
     "name": "stdout",
     "output_type": "stream",
     "text": [
      "Requirement already satisfied: xgboost in c:\\users\\user\\anaconda3\\lib\\site-packages (1.7.6)\n",
      "Requirement already satisfied: numpy in c:\\users\\user\\anaconda3\\lib\\site-packages (from xgboost) (1.20.3)\n",
      "Requirement already satisfied: scipy in c:\\users\\user\\anaconda3\\lib\\site-packages (from xgboost) (1.7.1)\n"
     ]
    }
   ],
   "source": [
    "!pip install xgboost"
   ]
  },
  {
   "cell_type": "code",
   "execution_count": 45,
   "id": "dea64af5",
   "metadata": {},
   "outputs": [],
   "source": [
    "\n",
    "from sklearn.linear_model import LogisticRegression\n",
    "from sklearn.ensemble import RandomForestClassifier\n",
    "from sklearn.tree import DecisionTreeClassifier\n",
    "from sklearn.ensemble import AdaBoostClassifier\n",
    "from xgboost import XGBClassifier\n",
    "from sklearn.metrics import accuracy_score, precision_score, recall_score, f1_score"
   ]
  },
  {
   "cell_type": "code",
   "execution_count": 46,
   "id": "edadf209",
   "metadata": {},
   "outputs": [],
   "source": [
    "# List of models\n",
    "models = [\n",
    "    ('Logistic Regression', LogisticRegression()),\n",
    "    ('Random Forest', RandomForestClassifier(random_state=42)),\n",
    "    ('Decision Tree', DecisionTreeClassifier(random_state=42)),\n",
    "    ('AdaBoost', AdaBoostClassifier(random_state=42)),\n",
    "    ('XGBoost', XGBClassifier(random_state=42))\n",
    "]\n"
   ]
  },
  {
   "cell_type": "code",
   "execution_count": 62,
   "id": "c7bade99",
   "metadata": {},
   "outputs": [
    {
     "name": "stdout",
     "output_type": "stream",
     "text": [
      "Training Logistic Regression...\n",
      "Logistic Regression Metrics:\n",
      "Accuracy: 0.50\n",
      "Precision: 0.50\n",
      "Recall: 0.38\n",
      "F1-Score: 0.43\n",
      "----------------------------------------\n",
      "Training Random Forest...\n",
      "Random Forest Metrics:\n",
      "Accuracy: 0.49\n",
      "Precision: 0.49\n",
      "Recall: 0.47\n",
      "F1-Score: 0.48\n",
      "----------------------------------------\n",
      "Training Decision Tree...\n",
      "Decision Tree Metrics:\n",
      "Accuracy: 0.50\n",
      "Precision: 0.49\n",
      "Recall: 0.50\n",
      "F1-Score: 0.50\n",
      "----------------------------------------\n",
      "Training AdaBoost...\n",
      "AdaBoost Metrics:\n",
      "Accuracy: 0.50\n",
      "Precision: 0.50\n",
      "Recall: 0.46\n",
      "F1-Score: 0.48\n",
      "----------------------------------------\n",
      "Training XGBoost...\n",
      "XGBoost Metrics:\n",
      "Accuracy: 0.50\n",
      "Precision: 0.49\n",
      "Recall: 0.47\n",
      "F1-Score: 0.48\n",
      "----------------------------------------\n"
     ]
    }
   ],
   "source": [
    "# Train, validate, and evaluate each model\n",
    "for name, model in models:\n",
    "    print(f\"Training {name}...\")\n",
    "    model.fit(X_train_encoded, y_train)\n",
    "    \n",
    "    # Predict on the test set\n",
    "    y_pred = model.predict(X_test_encoded)\n",
    "    \n",
    "    # Evaluate performance metrics\n",
    "    accuracy = accuracy_score(y_test, y_pred)\n",
    "    precision = precision_score(y_test, y_pred)\n",
    "    recall = recall_score(y_test, y_pred)\n",
    "    f1 = f1_score(y_test, y_pred)\n",
    "    \n",
    "    print(f\"{name} Metrics:\")\n",
    "    print(f\"Accuracy: {accuracy:.2f}\")\n",
    "    print(f\"Precision: {precision:.2f}\")\n",
    "    print(f\"Recall: {recall:.2f}\")\n",
    "    print(f\"F1-Score: {f1:.2f}\")\n",
    "    print(\"-\" * 40)"
   ]
  },
  {
   "cell_type": "code",
   "execution_count": 49,
   "id": "537e752c",
   "metadata": {},
   "outputs": [
    {
     "name": "stdout",
     "output_type": "stream",
     "text": [
      "Collecting hyperopt\n",
      "  Downloading hyperopt-0.2.7-py2.py3-none-any.whl (1.6 MB)\n",
      "Requirement already satisfied: scipy in c:\\users\\user\\anaconda3\\lib\\site-packages (from hyperopt) (1.7.1)\n",
      "Requirement already satisfied: cloudpickle in c:\\users\\user\\anaconda3\\lib\\site-packages (from hyperopt) (2.0.0)\n",
      "Requirement already satisfied: networkx>=2.2 in c:\\users\\user\\anaconda3\\lib\\site-packages (from hyperopt) (2.6.3)\n",
      "Requirement already satisfied: tqdm in c:\\users\\user\\anaconda3\\lib\\site-packages (from hyperopt) (4.62.3)\n",
      "Requirement already satisfied: future in c:\\users\\user\\anaconda3\\lib\\site-packages (from hyperopt) (0.18.2)\n",
      "Collecting py4j\n",
      "  Downloading py4j-0.10.9.7-py2.py3-none-any.whl (200 kB)\n",
      "Requirement already satisfied: numpy in c:\\users\\user\\anaconda3\\lib\\site-packages (from hyperopt) (1.20.3)\n",
      "Requirement already satisfied: six in c:\\users\\user\\anaconda3\\lib\\site-packages (from hyperopt) (1.16.0)\n",
      "Requirement already satisfied: colorama in c:\\users\\user\\anaconda3\\lib\\site-packages (from tqdm->hyperopt) (0.4.4)\n",
      "Installing collected packages: py4j, hyperopt\n",
      "Successfully installed hyperopt-0.2.7 py4j-0.10.9.7\n"
     ]
    }
   ],
   "source": [
    "!pip install hyperopt"
   ]
  },
  {
   "cell_type": "code",
   "execution_count": 50,
   "id": "95ecaacb",
   "metadata": {},
   "outputs": [],
   "source": [
    "from sklearn.model_selection import cross_val_score\n",
    "from sklearn.model_selection import RandomizedSearchCV\n",
    "from sklearn.ensemble import RandomForestClassifier\n",
    "from sklearn.metrics import make_scorer, accuracy_score, precision_score, recall_score, f1_score\n",
    "from hyperopt import hp, fmin, tpe, Trials"
   ]
  },
  {
   "cell_type": "code",
   "execution_count": 56,
   "id": "d1d2bad3",
   "metadata": {},
   "outputs": [],
   "source": [
    "# Define the hyperparameter search space\n",
    "param_space = {\n",
    "    'n_estimators': hp.choice('n_estimators', np.arange(50, 201, 50)),\n",
    "    'max_depth': hp.choice('max_depth', np.arange(5, 21, 5)),\n",
    "    'min_samples_split': hp.choice('min_samples_split', np.arange(2, 11, 1)),\n",
    "    'min_samples_leaf': hp.choice('min_samples_leaf', np.arange(1, 11, 1)),\n",
    "    'max_features': hp.choice('max_features', ['auto', 'sqrt', 'log2']),\n",
    "}"
   ]
  },
  {
   "cell_type": "code",
   "execution_count": 57,
   "id": "280b427e",
   "metadata": {},
   "outputs": [],
   "source": [
    "# Define a custom scoring function for hyperopt\n",
    "scoring = make_scorer(f1_score, average='binary')"
   ]
  },
  {
   "cell_type": "code",
   "execution_count": 63,
   "id": "30f669ea",
   "metadata": {},
   "outputs": [],
   "source": [
    "# Define the model and hyperparameter search\n",
    "def objective(params):\n",
    "    clf = RandomForestClassifier(**params)\n",
    "    return -np.mean(cross_val_score(clf, X_train_encoded, y_train, cv=5, scoring=scoring))"
   ]
  },
  {
   "cell_type": "code",
   "execution_count": 64,
   "id": "f73fd39c",
   "metadata": {},
   "outputs": [
    {
     "name": "stdout",
     "output_type": "stream",
     "text": [
      "100%|████████████████████████████████████████████| 100/100 [48:19<00:00, 29.00s/trial, best loss: -0.49314706825604915]\n"
     ]
    }
   ],
   "source": [
    "# Use hyperopt to find the best hyperparameters\n",
    "trials = Trials()\n",
    "best = fmin(fn=objective, space=param_space, algo=tpe.suggest, max_evals=100, trials=trials)\n",
    "\n"
   ]
  },
  {
   "cell_type": "code",
   "execution_count": 65,
   "id": "9a672f47",
   "metadata": {},
   "outputs": [
    {
     "name": "stdout",
     "output_type": "stream",
     "text": [
      "Best Hyperparameters:\n",
      "{'max_depth': 3, 'max_features': 0, 'min_samples_leaf': 2, 'min_samples_split': 0, 'n_estimators': 0}\n"
     ]
    }
   ],
   "source": [
    "# Print the best hyperparameters\n",
    "print(\"Best Hyperparameters:\")\n",
    "print(best)\n",
    "\n",
    "\n",
    "\n",
    "\n"
   ]
  },
  {
   "cell_type": "code",
   "execution_count": 66,
   "id": "cc8c3841",
   "metadata": {},
   "outputs": [
    {
     "name": "stdout",
     "output_type": "stream",
     "text": [
      "Best Hyperparameters:\n",
      "{'n_estimators': 50, 'max_depth': 20, 'min_samples_split': 2, 'min_samples_leaf': 3, 'max_features': 'auto'}\n"
     ]
    }
   ],
   "source": [
    "# Map the indices to the actual values\n",
    "best_hyperparameters = {\n",
    "    'n_estimators': np.arange(50, 201, 50)[best['n_estimators']],\n",
    "    'max_depth': np.arange(5, 21, 5)[best['max_depth']],\n",
    "    'min_samples_split': np.arange(2, 11, 1)[best['min_samples_split']],\n",
    "    'min_samples_leaf': np.arange(1, 11, 1)[best['min_samples_leaf']],\n",
    "    'max_features': ['auto', 'sqrt', 'log2'][best['max_features']],\n",
    "}\n",
    "\n",
    "# Print the best hyperparameters\n",
    "print(\"Best Hyperparameters:\")\n",
    "print(best_hyperparameters)"
   ]
  },
  {
   "cell_type": "code",
   "execution_count": 70,
   "id": "50ac46e4",
   "metadata": {},
   "outputs": [],
   "source": [
    "# List of models with their best hyperparameters\n",
    "models = [\n",
    "    ('Logistic Regression', LogisticRegression()),  # No need to pass hyperparameters\n",
    "    ('Random Forest', RandomForestClassifier(**best_hyperparameters, random_state=42)),\n",
    "    ('Decision Tree', DecisionTreeClassifier(random_state=42)),  # No need to pass hyperparameters\n",
    "    ('AdaBoost', AdaBoostClassifier(n_estimators=best_hyperparameters['n_estimators'], random_state=42)),\n",
    "    ('XGBoost', XGBClassifier(**best_hyperparameters, random_state=42))\n",
    "]\n",
    "\n",
    "# Rest of the code remains the same...\n"
   ]
  },
  {
   "cell_type": "code",
   "execution_count": 72,
   "id": "4fa61ddb",
   "metadata": {},
   "outputs": [
    {
     "name": "stdout",
     "output_type": "stream",
     "text": [
      "Model: Logistic Regression\n",
      "Accuracy: 0.50\n",
      "Precision: 0.50\n",
      "Recall: 0.38\n",
      "F1-Score: 0.43\n",
      "----------------------------------------\n",
      "Model: Random Forest\n",
      "Accuracy: 0.50\n",
      "Precision: 0.50\n",
      "Recall: 0.47\n",
      "F1-Score: 0.49\n",
      "----------------------------------------\n",
      "Model: Decision Tree\n",
      "Accuracy: 0.50\n",
      "Precision: 0.49\n",
      "Recall: 0.50\n",
      "F1-Score: 0.50\n",
      "----------------------------------------\n",
      "Model: AdaBoost\n",
      "Accuracy: 0.50\n",
      "Precision: 0.50\n",
      "Recall: 0.46\n",
      "F1-Score: 0.48\n",
      "----------------------------------------\n",
      "[13:34:02] WARNING: C:\\buildkite-agent\\builds\\buildkite-windows-cpu-autoscaling-group-i-0fdc6d574b9c0d168-1\\xgboost\\xgboost-ci-windows\\src\\learner.cc:767: \n",
      "Parameters: { \"max_features\", \"min_samples_leaf\", \"min_samples_split\" } are not used.\n",
      "\n",
      "Model: XGBoost\n",
      "Accuracy: 0.50\n",
      "Precision: 0.50\n",
      "Recall: 0.49\n",
      "F1-Score: 0.49\n",
      "----------------------------------------\n"
     ]
    }
   ],
   "source": [
    "# Train and evaluate each model\n",
    "for name, model in models:\n",
    "    model.fit(X_train_encoded, y_train)\n",
    "    y_pred = model.predict(X_test_encoded)\n",
    "    \n",
    "    accuracy = accuracy_score(y_test, y_pred)\n",
    "    precision = precision_score(y_test, y_pred)\n",
    "    recall = recall_score(y_test, y_pred)\n",
    "    f1 = f1_score(y_test, y_pred)\n",
    "    \n",
    "    print(f\"Model: {name}\")\n",
    "    print(f\"Accuracy: {accuracy:.2f}\")\n",
    "    print(f\"Precision: {precision:.2f}\")\n",
    "    print(f\"Recall: {recall:.2f}\")\n",
    "    print(f\"F1-Score: {f1:.2f}\")\n",
    "    print(\"----------------------------------------\")"
   ]
  },
  {
   "cell_type": "code",
   "execution_count": null,
   "id": "1bab87f3",
   "metadata": {},
   "outputs": [],
   "source": []
  }
 ],
 "metadata": {
  "kernelspec": {
   "display_name": "Python 3 (ipykernel)",
   "language": "python",
   "name": "python3"
  },
  "language_info": {
   "codemirror_mode": {
    "name": "ipython",
    "version": 3
   },
   "file_extension": ".py",
   "mimetype": "text/x-python",
   "name": "python",
   "nbconvert_exporter": "python",
   "pygments_lexer": "ipython3",
   "version": "3.9.7"
  }
 },
 "nbformat": 4,
 "nbformat_minor": 5
}
